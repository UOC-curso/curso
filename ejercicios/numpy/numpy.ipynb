{
 "cells": [
  {
   "cell_type": "markdown",
   "id": "7a208790-3af6-429b-ad68-577a8847811b",
   "metadata": {},
   "source": [
    "# Business Challenge: Forex Data Analysis Challenge\n",
    "\n",
    "En este ejercicio, nos embarcaremos en un desafío de análisis de datos de Forex, simulando \n",
    "un escenario donde necesitas analizar datos históricos de tasas de cambio extranjero \n",
    "(Forex) para un par de divisas. Se te ha proporcionado un conjunto de datos que contiene \n",
    "tasas de Forex diarias para un par de divisas específico durante un mes. Tu objetivo es \n",
    "aprovechar NumPy para extraer valiosas percepciones de estos datos financieros.\n",
    "\n",
    "### Descripción del Dataset\n",
    "\n",
    "El conjunto de datos comprende tres arrays de NumPy:\n",
    "- `dates`: Un array que contiene valores de fecha que representan cada día de negociación del mes.\n",
    "```python\n",
    "dates = np.array(['2023-10-01', '2023-10-02', '2023-10-03', '2023-10-04', \n",
    "                  '2023-10-05', '2023-10-06', '2023-10-07', '2023-10-08', \n",
    "                  '2023-10-09', '2023-10-10', '2023-10-11', '2023-10-12', \n",
    "                  '2023-10-13', '2023-10-14', '2023-10-15', '2023-10-16', \n",
    "                  '2023-10-17', '2023-10-18', '2023-10-19', '2023-10-20', \n",
    "                  '2023-10-21', '2023-10-22', '2023-10-23', '2023-10-24', \n",
    "                  '2023-10-25', '2023-10-26', '2023-10-27', '2023-10-28', \n",
    "                  '2023-10-29', '2023-10-30', '2023-10-31'])\n",
    "```\n",
    "\n",
    "- `exchange_rates`: Un array de valores de tasas de cambio para un par de divisas específico \n",
    "correspondiente a cada fecha.\n",
    "```python\n",
    "exchange_rates = np.array([1.10, 1.12, 1.15, 1.11, 1.14, 1.13, 1.10, 1.12, \n",
    "                            1.13, 1.11, 1.15, 1.16, 1.18, 1.20, 1.19, 1.17, \n",
    "                            1.16, 1.14, 1.12, 1.13, 1.11, 1.10, 1.12, 1.13, \n",
    "                            1.14, 1.15, 1.11, 1.10, 1.08, 1.09, 1.11, 1.13])\n",
    "```\n",
    "\n",
    "- `trade_volumes`: Un array que representa los volúmenes de negociación para cada día de negociación.\n",
    "```python\n",
    "trade_volumes = np.array([1000, 1200, 1100, 1300, 1500, 1400, 1600, 1700, \n",
    "                          1800, 1900, 2100, 2200, 2000, 2300, 2400, 2500, \n",
    "                          2600, 2700, 2800, 2900, 3000, 3100, 3200, 3300, \n",
    "                          3400, 3500, 3600, 3700, 3800, 3900, 4000, 4100, \n",
    "                          4200])\n",
    "```\n",
    "\n",
    "- `external_variable`: Un array que representa un índice económico (por ejemplo, el índice de precios al consumidor) \n",
    "que puede ser utilizado para calcular la correlación.\n",
    "```python\n",
    "external_variable = np.array([102, 103, 101, 104, 105, 106, 107, 108, \n",
    "                              109, 110, 111, 112, 113, 114, 115, 116, \n",
    "                              117, 118, 119, 120, 121, 122, 123, 124, \n",
    "                              125, 126, 127, 128, 129, 130, 131, 132, \n",
    "                              133])\n",
    "```\n",
    "\n",
    "Tus tareas involucrarán:\n",
    "\n",
    "1. Calcular la tasa de cambio promedio para todo el mes.\n",
    "2. Identificar la fecha con la tasa de cambio más alta.\n",
    "3. Determinar el volumen total de negociación para el mes.\n",
    "4. Calcular la tasa de cambio mínima y máxima del mes.\n",
    "5. Determinar la volatilidad diaria de las tasas de cambio (diferencias entre días consecutivos).\n",
    "6. Graficar la evolución de las tasas de cambio a lo largo del mes.\n",
    "7. Comparar el rendimiento de las tasas de cambio en la primera y última semana del mes.\n",
    "8. Calcular la correlación de las tasas de cambio con respecto a una variable externa (por ejemplo, un índice económico).\n",
    "9. Determinar el número de días en los que la tasa de cambio superó un valor específico (por ejemplo, 1.15).\n",
    "10. Crear un resumen estadístico que incluya la media, mediana y desviación estándar de las tasas de cambio.\n",
    "\n",
    "Al final de este ejercicio, ganarás experiencia práctica en el uso de NumPy para el \n",
    "análisis de datos financieros, una habilidad valiosa para profesionales en el mundo del \n",
    "trading de Forex y las finanzas.\n",
    "\n",
    "¡Comencemos calculando la tasa de cambio promedio para todo el mes!\n",
    "\n",
    "**¡Pista!**: Revisa la documentación [aquí](https://numpy.org/doc/stable/reference/routines.html).\n"
   ]
  },
  {
   "cell_type": "code",
   "execution_count": 52,
   "id": "1f90d398-42ab-4275-8052-0dd8021f669a",
   "metadata": {},
   "outputs": [
    {
     "name": "stdout",
     "output_type": "stream",
     "text": [
      "35.050000000000004\n",
      "31\n",
      "1.1306451612903228\n",
      "1.1306451612903228\n",
      "31\n",
      "33\n",
      "33\n"
     ]
    }
   ],
   "source": [
    "import io\n",
    "import numpy as np\n",
    "exchange_rates = np.array([1.10, 1.12, 1.15, 1.11, 1.14, 1.13, 1.10, 1.12, \n",
    "                            1.13, 1.11, 1.15, 1.16, 1.18, 1.20, 1.19, 1.17, \n",
    "                            1.16, 1.14, 1.12, 1.13, 1.11, 1.10, 1.12, 1.13, \n",
    "                            1.14, 1.15, 1.11, 1.10, 1.08, 1.09, 1.11, 1.13])\n",
    "\n",
    "dates = np.array(['2023-10-01', '2023-10-02', '2023-10-03', '2023-10-04', \n",
    "                  '2023-10-05', '2023-10-06', '2023-10-07', '2023-10-08', \n",
    "                  '2023-10-09', '2023-10-10', '2023-10-11', '2023-10-12', \n",
    "                  '2023-10-13', '2023-10-14', '2023-10-15', '2023-10-16', \n",
    "                  '2023-10-17', '2023-10-18', '2023-10-19', '2023-10-20', \n",
    "                  '2023-10-21', '2023-10-22', '2023-10-23', '2023-10-24', \n",
    "                  '2023-10-25', '2023-10-26', '2023-10-27', '2023-10-28', \n",
    "                  '2023-10-29', '2023-10-30', '2023-10-31'])\n",
    "trade_volumes = np.array([1000, 1200, 1100, 1300, 1500, 1400, 1600, 1700, \n",
    "                          1800, 1900, 2100, 2200, 2000, 2300, 2400, 2500, \n",
    "                          2600, 2700, 2800, 2900, 3000, 3100, 3200, 3300, \n",
    "                          3400, 3500, 3600, 3700, 3800, 3900, 4000, 4100, \n",
    "                          4200])\n",
    "\n",
    "external_variable = np.array([102, 103, 101, 104, 105, 106, 107, 108, \n",
    "                              109, 110, 111, 112, 113, 114, 115, 116, \n",
    "                              117, 118, 119, 120, 121, 122, 123, 124, \n",
    "                              125, 126, 127, 128, 129, 130, 131, 132, \n",
    "                              133])\n",
    "\n",
    "exchange_rates =exchange_rates[:31]\n",
    "a=sum(exchange_rates)\n",
    "c=len(exchange_rates)\n",
    "print(a)\n",
    "print(c)\n",
    "print(a/c)\n",
    "print(np.mean(exchange_rates))\n",
    "print(len(dates))\n",
    "print(len(trade_volumes))\n",
    "print(len(external_variable))"
   ]
  },
  {
   "cell_type": "code",
   "execution_count": 43,
   "id": "78db172d-f30a-4295-a344-bc81ccdbac17",
   "metadata": {},
   "outputs": [
    {
     "name": "stdout",
     "output_type": "stream",
     "text": [
      "[('2023-10-01', 1.1, 1000, 102), ('2023-10-02', 1.12, 1200, 103), ('2023-10-03', 1.15, 1100, 101), ('2023-10-04', 1.11, 1300, 104), ('2023-10-05', 1.14, 1500, 105), ('2023-10-06', 1.13, 1400, 106), ('2023-10-07', 1.1, 1600, 107), ('2023-10-08', 1.12, 1700, 108), ('2023-10-09', 1.13, 1800, 109), ('2023-10-10', 1.11, 1900, 110), ('2023-10-11', 1.15, 2100, 111), ('2023-10-12', 1.16, 2200, 112), ('2023-10-13', 1.18, 2000, 113), ('2023-10-14', 1.2, 2300, 114), ('2023-10-15', 1.19, 2400, 115), ('2023-10-16', 1.17, 2500, 116), ('2023-10-17', 1.16, 2600, 117), ('2023-10-18', 1.14, 2700, 118), ('2023-10-19', 1.12, 2800, 119), ('2023-10-20', 1.13, 2900, 120), ('2023-10-21', 1.11, 3000, 121), ('2023-10-22', 1.1, 3100, 122), ('2023-10-23', 1.12, 3200, 123), ('2023-10-24', 1.13, 3300, 124), ('2023-10-25', 1.14, 3400, 125), ('2023-10-26', 1.15, 3500, 126), ('2023-10-27', 1.11, 3600, 127), ('2023-10-28', 1.1, 3700, 128), ('2023-10-29', 1.08, 3800, 129), ('2023-10-30', 1.09, 3900, 130), ('2023-10-31', 1.11, 4000, 131)]\n",
      "31\n"
     ]
    }
   ],
   "source": [
    "\n",
    "tbl= list(zip(dates,exchange_rates,trade_volumes,external_variable))\n",
    "print(tbl)\n",
    "print(len(tbl))"
   ]
  },
  {
   "cell_type": "code",
   "execution_count": 44,
   "id": "c2f74ec8-116a-4f13-b161-8c74624dcb28",
   "metadata": {},
   "outputs": [
    {
     "name": "stdout",
     "output_type": "stream",
     "text": [
      "('2023-10-14', 1.2, 2300, 114)\n",
      "(<function <lambda> at 0x7fbd614b8670>, [1.1, 1.12, 1.15, 1.11, 1.14, 1.13, 1.1, 1.12, 1.13, 1.11, 1.15, 1.16, 1.18, 1.2, 1.19, 1.17, 1.16, 1.14, 1.12, 1.13, 1.11, 1.1, 1.12, 1.13, 1.14, 1.15, 1.11, 1.1, 1.08, 1.09, 1.11], 0)\n",
      "1.2\n",
      "1.2\n"
     ]
    }
   ],
   "source": [
    "from typing import List, Tuple\n",
    "from functools import reduce\n",
    "vFMax =(lambda x,y: x if x[1] > y[1] else y)\n",
    "arr=tbl\n",
    "vMaximo =reduce(vFMax,arr)\n",
    "print(vMaximo)\n",
    "vRes = [t[1] for t in arr]\n",
    "#\n",
    "vRes = lambda x,y: x if x > y else y, [t[1] for t in arr],0\n",
    "print(vRes)\n",
    "# Extraer la columna 2 (índice 1)\n",
    "columna_2 = [t[1] for t in arr]\n",
    "\n",
    "# Usar 'reduce' para encontrar el máximo\n",
    "vRes = reduce(lambda x, y: x if x > y else y, columna_2)\n",
    "\n",
    "print(vRes)  # Debería imprimir 20, que es el máximo en la segunda columna\n",
    "columna_2 = [t[1] for t in arr]\n",
    "\n",
    "# Usar 'reduce' para encontrar el máximo\n",
    "vRes = reduce(lambda x, y: x if x > y else y, [t[1] for t in arr])\n",
    "\n",
    "print(vRes)  # Debería imprimir 20, que es el máximo en la segunda columna\n"
   ]
  },
  {
   "cell_type": "code",
   "execution_count": null,
   "id": "b6b6c46e-5ff1-4834-95e7-d5f9f822c18c",
   "metadata": {},
   "outputs": [],
   "source": []
  },
  {
   "cell_type": "code",
   "execution_count": 54,
   "id": "04c75e1b-812a-4d9b-ae31-9ebf6732d22f",
   "metadata": {},
   "outputs": [
    {
     "name": "stdout",
     "output_type": "stream",
     "text": [
      "vRes 1.2\n",
      "('2023-10-29', 1.08, 3800, 129)\n",
      "77500\n"
     ]
    }
   ],
   "source": [
    "print('vRes', vRes)\n",
    "min_item = min(arr, key=lambda x: x[1]) \n",
    "\n",
    "print(min_item)\n",
    "#vFSum = (lambda x,y: x[3]+y[3])\n",
    "#total_Volumen = reduce(vFSum,arr)\n",
    "#print(total_Volumen)\n",
    "vTotalC = reduce(lambda x,y: x+y, [z[2] for z in arr])\n",
    "print(vTotalC)\n",
    "\n"
   ]
  },
  {
   "cell_type": "code",
   "execution_count": null,
   "id": "ea2756c4-0994-4101-b6d2-5863111ef609",
   "metadata": {},
   "outputs": [],
   "source": []
  }
 ],
 "metadata": {
  "kernelspec": {
   "display_name": "Python 3 (ipykernel)",
   "language": "python",
   "name": "python3"
  },
  "language_info": {
   "codemirror_mode": {
    "name": "ipython",
    "version": 3
   },
   "file_extension": ".py",
   "mimetype": "text/x-python",
   "name": "python",
   "nbconvert_exporter": "python",
   "pygments_lexer": "ipython3",
   "version": "3.8.10"
  }
 },
 "nbformat": 4,
 "nbformat_minor": 5
}
