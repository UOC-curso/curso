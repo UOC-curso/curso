{
 "cells": [
  {
   "cell_type": "code",
   "execution_count": null,
   "id": "af2875c4-b3a0-44cf-be21-8066e2b3de3d",
   "metadata": {},
   "outputs": [],
   "source": []
  }
 ],
 "metadata": {
  "kernelspec": {
   "display_name": "",
   "name": ""
  },
  "language_info": {
   "name": ""
  }
 },
 "nbformat": 4,
 "nbformat_minor": 5
}
