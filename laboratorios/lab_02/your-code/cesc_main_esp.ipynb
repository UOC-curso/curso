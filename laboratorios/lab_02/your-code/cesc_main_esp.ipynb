{
 "cells": [
  {
   "cell_type": "markdown",
   "metadata": {},
   "source": [
    "## Instrucciones para el Laboratorio\n",
    "\n",
    "Para cada ejercicio del laboratorio, se requiere seguir estos pasos:\n",
    "\n",
    "1. **Desarrollo del Pseudocódigo**: Antes de comenzar a programar, elabora un pseudocódigo para cada solución. El pseudocódigo debe detallar la lógica y los pasos necesarios para resolver el problema de manera clara y estructurada. Esto te ayudará a comprender mejor la solución antes de codificarla.\n",
    "\n",
    "2. **Implementación del Programa**: Una vez que tengas el pseudocódigo listo y revisado, procede a programar la solución en Python. Asegúrate de que tu código siga la lógica que has definido en el pseudocódigo y cumpla con los requisitos especificados en cada ejercicio.\n",
    "\n",
    "Recuerda que una buena planificación a través del pseudocódigo facilitará el proceso de programación y te permitirá identificar posibles errores antes de implementar el código."
   ]
  },
  {
   "cell_type": "markdown",
   "metadata": {},
   "source": [
    "## Ejercicio: Transformación de Palabras\n",
    "\n",
    "Dada la lista de palabras:"
   ]
  },
  {
   "cell_type": "code",
   "execution_count": 2,
   "metadata": {},
   "outputs": [],
   "source": [
    "words = ['play', 'filling', 'bar', 'theatre', 'easygoing', 'date', 'lead', 'that', 'story',  'island']"
   ]
  },
  {
   "cell_type": "markdown",
   "metadata": {},
   "source": [
    "1. **Imprimir Letras Mayúsculas**: Escribe un programa que imprima todas las letras de cada palabra en la lista en mayúsculas, separando cada letra por una coma."
   ]
  },
  {
   "cell_type": "markdown",
   "metadata": {},
   "source": [
    "##### tu pseudocodigo aquí\n",
    "\n",
    "para cada palabra p en words :\n",
    "    para cada letra l en p :\n",
    "        imprime en mayuscula l \n",
    "        imprime una coma si no es la ultima letra"
   ]
  },
  {
   "cell_type": "code",
   "execution_count": 16,
   "metadata": {},
   "outputs": [
    {
     "name": "stdout",
     "output_type": "stream",
     "text": [
      "P ,\n",
      "L ,\n",
      "A ,\n",
      "Y ,\n",
      "\n",
      "F ,\n",
      "I ,\n",
      "L ,\n",
      "L ,\n",
      "I ,\n",
      "N ,\n",
      "G ,\n",
      "\n",
      "B ,\n",
      "A ,\n",
      "R ,\n",
      "\n",
      "T ,\n",
      "H ,\n",
      "E ,\n",
      "A ,\n",
      "T ,\n",
      "R ,\n",
      "E ,\n",
      "\n",
      "E ,\n",
      "A ,\n",
      "S ,\n",
      "Y ,\n",
      "G ,\n",
      "O ,\n",
      "I ,\n",
      "N ,\n",
      "G ,\n",
      "\n",
      "D ,\n",
      "A ,\n",
      "T ,\n",
      "E ,\n",
      "\n",
      "L ,\n",
      "E ,\n",
      "A ,\n",
      "D ,\n",
      "\n",
      "T ,\n",
      "H ,\n",
      "A ,\n",
      "T ,\n",
      "\n",
      "S ,\n",
      "T ,\n",
      "O ,\n",
      "R ,\n",
      "Y ,\n",
      "\n",
      "I ,\n",
      "S ,\n",
      "L ,\n",
      "A ,\n",
      "N ,\n",
      "D ,\n",
      "\n"
     ]
    }
   ],
   "source": [
    "# tu codigo aquí\n",
    "for p in words :\n",
    "    for l in p :        \n",
    "        print (l.upper(), ',')\n",
    "    print()    \n",
    "        "
   ]
  },
  {
   "cell_type": "markdown",
   "metadata": {},
   "source": [
    "2. **Crear una Nueva Lista**: Genera una nueva lista que contenga solo las palabras que tengan 5 o más letras. Luego, imprime esta nueva lista."
   ]
  },
  {
   "cell_type": "markdown",
   "metadata": {},
   "source": [
    "##### tu pseudocodigo aquí\n",
    "\n",
    "palabras_cinco_letras_o_mas = nueva lista\n",
    "\n",
    "para cada palabra p en words :\n",
    "    si tamaño de p >= 5 entonces añade p a palabras_cinco_letras_o_mas\n"
   ]
  },
  {
   "cell_type": "code",
   "execution_count": 18,
   "metadata": {},
   "outputs": [
    {
     "name": "stdout",
     "output_type": "stream",
     "text": [
      "['filling', 'theatre', 'easygoing', 'story', 'island']\n"
     ]
    }
   ],
   "source": [
    "# tu codigo aquí\n",
    "palabras5 =[]\n",
    "for p in words :\n",
    "    if len(p)>= 5 :\n",
    "        palabras5.append(p)\n",
    "print (palabras5)        \n"
   ]
  },
  {
   "cell_type": "markdown",
   "metadata": {},
   "source": [
    "3. **Encontrar Palabras que Comienzan con 't'**: Imprime la primera palabra en la lista que comience con la letra 't'. Si no hay ninguna, imprime un mensaje indicando que no se encontró ninguna palabra que empiece con 't'."
   ]
  },
  {
   "cell_type": "markdown",
   "metadata": {},
   "source": [
    "##### tu pseudocodigo aquí\n",
    "empieza_con_t = falso\n",
    "\n",
    "para cada palabra p en words :\n",
    "    si p empieza por 't' :\n",
    "        imprime p\n",
    "        empieza_con_t = cierto\n",
    "        finaliza el para\n",
    "si empieza_con_t != cierto\n",
    "    imprime \"no se encontró ninguna palabra que empiece con 't'.\"\n"
   ]
  },
  {
   "cell_type": "code",
   "execution_count": 25,
   "metadata": {},
   "outputs": [
    {
     "name": "stdout",
     "output_type": "stream",
     "text": [
      "theatre\n",
      "that\n"
     ]
    }
   ],
   "source": [
    "# tu codigo aquí\n",
    "empieza_con_t = False\n",
    "for p in words :\n",
    "    if p.startswith('t') :\n",
    "        print(p)\n",
    "        empieza_con_t = True\n",
    "        continue\n",
    "if (empieza_con_t == False) :\n",
    "    print(\"no se encontró ninguna palabra que empiece con 't'.\")"
   ]
  },
  {
   "cell_type": "markdown",
   "metadata": {},
   "source": [
    "4. **Contar las Vocales**: Escribe un programa que cuente y imprima el número total de vocales en todas las palabras de la lista."
   ]
  },
  {
   "cell_type": "markdown",
   "metadata": {},
   "source": [
    "##### tu pseudocodigo aquí\n",
    "para cada palabra p en words :\n",
    "    total_vocales = 0\n",
    "    para cada letra l en p :\n",
    "        si l es vocal : \n",
    "            total_vocales += 1            \n",
    "    imprime total_vocales\n"
   ]
  },
  {
   "cell_type": "code",
   "execution_count": 32,
   "metadata": {},
   "outputs": [
    {
     "name": "stdout",
     "output_type": "stream",
     "text": [
      "1\n",
      "2\n",
      "1\n",
      "3\n",
      "4\n",
      "2\n",
      "2\n",
      "1\n",
      "1\n",
      "2\n",
      "19\n"
     ]
    }
   ],
   "source": [
    "# tu codigo aquí\n",
    "total_vocales =0\n",
    "for p in words :    \n",
    "    total_vocales_palabra =0\n",
    "    for l in p :        \n",
    "        if l in ['a','e','i','o','u'] :\n",
    "            total_vocales_palabra +=1\n",
    "            total_vocales +=1\n",
    "    print (total_vocales_palabra)\n",
    "print (total_vocales)        "
   ]
  },
  {
   "cell_type": "markdown",
   "metadata": {},
   "source": [
    "5. **Palabras que Contienen la Letra 'a'**: Crea una nueva lista que contenga solo las palabras que tengan la letra 'a'. Imprime esta nueva lista."
   ]
  },
  {
   "cell_type": "markdown",
   "metadata": {},
   "source": [
    "##### tu pseudocodigo aquí\n",
    "\n",
    "palabras_con_letra_a =[]\n",
    "\n",
    "para cada palabra p en words :\n",
    "    para cada letra l en p :\n",
    "        si l es 'a' : \n",
    "            añadir a palabras_con_letra_b el elemento l\n",
    "            finaliza el para    \n"
   ]
  },
  {
   "cell_type": "code",
   "execution_count": 34,
   "metadata": {},
   "outputs": [
    {
     "name": "stdout",
     "output_type": "stream",
     "text": [
      "['play', 'bar', 'theatre', 'easygoing', 'date', 'lead', 'that', 'island']\n"
     ]
    }
   ],
   "source": [
    "# tu codigo aquí\n",
    "\n",
    "palabras_con_letra_a =[]\n",
    "for p in words :    \n",
    "    for l in p :        \n",
    "        if l == 'a' :\n",
    "            palabras_con_letra_a.append(p)\n",
    "            continue\n",
    "print (palabras_con_letra_a)\n"
   ]
  },
  {
   "cell_type": "markdown",
   "metadata": {},
   "source": [
    "6. **Palabras en Orden Inverso**: Imprime la lista de palabras en orden inverso, de la última a la primera."
   ]
  },
  {
   "cell_type": "markdown",
   "metadata": {},
   "source": [
    "##### tu pseudocodigo aquí\n",
    "para indice = tamaño de words-1 hasta 0 con pasos de -1 :\n",
    "    imprimime el elemento indice de words\n"
   ]
  },
  {
   "cell_type": "code",
   "execution_count": 43,
   "metadata": {},
   "outputs": [
    {
     "name": "stdout",
     "output_type": "stream",
     "text": [
      "island\n",
      "story\n",
      "that\n",
      "lead\n",
      "date\n",
      "easygoing\n",
      "theatre\n",
      "bar\n",
      "filling\n",
      "play\n"
     ]
    }
   ],
   "source": [
    "# tu codigo aquí\n",
    "\n",
    "for i in range(words.__len__(),0,-1) :\n",
    "    print(words[i-1])\n"
   ]
  },
  {
   "cell_type": "markdown",
   "metadata": {},
   "source": [
    "## Numeros Primos"
   ]
  },
  {
   "cell_type": "markdown",
   "metadata": {},
   "source": [
    "1. **Lista de Números Primos**: \n",
    "   Crea una lista que contenga los números primos entre 1 y 20. Imprime la lista."
   ]
  },
  {
   "cell_type": "markdown",
   "metadata": {},
   "source": [
    "##### tu pseudocodigo aquí\n",
    "\n",
    "lista_primos = nueva lista\n",
    "indice = 0\n",
    "mientras i <20\n",
    "    si i es primo : \n",
    "        imprime i\n",
    "\n",
    "#### Anthony\n"
   ]
  },
  {
   "cell_type": "code",
   "execution_count": null,
   "metadata": {},
   "outputs": [],
   "source": [
    "# tu codigo aquí"
   ]
  },
  {
   "cell_type": "markdown",
   "metadata": {},
   "source": [
    "2. **Contar Números Primos**: \n",
    "   Escribe un programa que cuente cuántos números primos hay entre 1 y 30. Imprime el total."
   ]
  },
  {
   "cell_type": "markdown",
   "metadata": {},
   "source": [
    "##### tu pseudocodigo aquí\n",
    "\n",
    "contador_primos = 0\n",
    "indice = 2\n",
    "mientras i <= 30\n",
    "    si i es primo : \n",
    "        contador_primos += 1\n",
    "        imprime i\n",
    "\n",
    "#### Anthony\n",
    "1. Inicializar un contador en 0 para los numeros primos.\n",
    "2. Para cada numero desde 2 hasta 30:\n",
    "    a. Inicializar una variable para saber si el numero es primo (es_primo =True)\n",
    "    b. Para cada numero desde 2 hasta la raiz cuadrada del numero actual:\n",
    "        i. Si el numero actual se puede dividir sin dejar residuo:\n",
    "            - Cambiar es_primo a False y salir del bucle.\n",
    "    c. Si es_primo sigue siendo True, aumentar el contador en 1.\n",
    "3. Imprimir el contador de numeros primos encontrados.\n"
   ]
  },
  {
   "cell_type": "code",
   "execution_count": 54,
   "metadata": {},
   "outputs": [
    {
     "name": "stdout",
     "output_type": "stream",
     "text": [
      "2\n",
      "3\n",
      "5\n",
      "7\n",
      "11\n",
      "13\n",
      "17\n",
      "19\n",
      "23\n",
      "29\n",
      "Total de numeros primos entre 1 y 30: 10\n"
     ]
    }
   ],
   "source": [
    "# tu codigo aquí\n",
    "prime_count =0\n",
    "for num in range(2,30+1):\n",
    "    is_prime= True\n",
    "    for i in range(2, int(num*0.5)+1):\n",
    "        if num % i ==0:\n",
    "            is_prime = False\n",
    "            break\n",
    "    if is_prime:\n",
    "        print(num)\n",
    "        prime_count +=1\n",
    "print (\"Total de numeros primos entre 1 y 30:\", prime_count)\n",
    "    "
   ]
  },
  {
   "cell_type": "markdown",
   "metadata": {},
   "source": [
    "3. **Suma de Números Primos**: \n",
    "   Crea un programa que calcule la suma de los números primos menores de 50 y la imprima."
   ]
  },
  {
   "cell_type": "markdown",
   "metadata": {},
   "source": [
    "##### tu pseudocodigo aquí\n",
    "\n",
    "contador_primos = 0\n",
    "indice = 2\n",
    "mientras i < 50\n",
    "    si i es primo : \n",
    "        contador_primos += 1\n",
    "        imprime i\n",
    "\n",
    "1. Inicializar un contador en 0 para los numeros primos.\n",
    "2. Para cada numero desde 2 hasta 50:\n",
    "    a. Inicializar una variable para saber si el numero es primo (es_primo =True)\n",
    "    b. Para cada numero desde 2 hasta la raiz cuadrada del numero actual:\n",
    "        i. Si el numero actual se puede dividir sin dejar residuo:\n",
    "            - Cambiar es_primo a False y salir del bucle.\n",
    "    c. Si es_primo sigue siendo True, ...\n",
    "3. Imprimir la suma de numeros primos encontrados.\n",
    "\n",
    "4. Fin"
   ]
  },
  {
   "cell_type": "code",
   "execution_count": null,
   "metadata": {},
   "outputs": [],
   "source": [
    "# tu codigo aquí"
   ]
  },
  {
   "cell_type": "markdown",
   "metadata": {},
   "source": [
    "4. **Verificar si un Número es Primo**: \n",
    "   Escribe un programa que pida al usuario un número y que determine si es primo. Imprime un mensaje indicando si el número es primo o no."
   ]
  },
  {
   "cell_type": "markdown",
   "metadata": {},
   "source": [
    "##### tu pseudocodigo aquí"
   ]
  },
  {
   "cell_type": "code",
   "execution_count": null,
   "metadata": {},
   "outputs": [],
   "source": [
    "# tu codigo aquí"
   ]
  },
  {
   "cell_type": "markdown",
   "metadata": {},
   "source": [
    "5. **Primos Menores a un Número**: \n",
    "   Crea un programa que pida al usuario un número y que imprima todos los números primos menores que ese número."
   ]
  },
  {
   "cell_type": "markdown",
   "metadata": {},
   "source": [
    "##### tu pseudocodigo aquí"
   ]
  },
  {
   "cell_type": "code",
   "execution_count": null,
   "metadata": {},
   "outputs": [],
   "source": [
    "# tu codigo aquí"
   ]
  },
  {
   "cell_type": "markdown",
   "metadata": {},
   "source": [
    "6. **Lista de Primos en un Rango**: \n",
    "   Crea un programa que genere e imprima los números primos entre 10 y 50."
   ]
  },
  {
   "cell_type": "markdown",
   "metadata": {},
   "source": [
    "##### tu pseudocodigo aquí"
   ]
  },
  {
   "cell_type": "code",
   "execution_count": null,
   "metadata": {},
   "outputs": [],
   "source": [
    "# tu codigo aquí"
   ]
  },
  {
   "cell_type": "markdown",
   "metadata": {},
   "source": [
    "## People\n",
    "\n",
    "Dada la siguiente lista de personas:"
   ]
  },
  {
   "cell_type": "code",
   "execution_count": 5,
   "metadata": {},
   "outputs": [],
   "source": [
    "people = [\n",
    "    {\n",
    "        \"name\": \"Juan\",\n",
    "        \"age\": 34,\n",
    "        \"n_kids\": 2,\n",
    "        \"city\": \"Madrid\"\n",
    "    },\n",
    "    {\n",
    "        \"name\": \"Pepe\",\n",
    "        \"age\": 27,\n",
    "        \"n_kids\": 0,\n",
    "        \"city\": \"Barcelona\"\n",
    "    },\n",
    "    {\n",
    "        \"name\": \"Sonia\",\n",
    "        \"age\": 41,\n",
    "        \"n_kids\": 1,\n",
    "        \"city\": \"Valencia\"\n",
    "    },\n",
    "    {\n",
    "        \"name\": \"Lucía\",\n",
    "        \"age\": 22,\n",
    "        \"n_kids\": 2,\n",
    "        \"city\": \"Sevilla\"\n",
    "    },\n",
    "    {\n",
    "        \"name\": \"Leo\",\n",
    "        \"age\": 55,\n",
    "        \"n_kids\": 5,\n",
    "        \"city\": \"Bilbao\"\n",
    "    },\n",
    "    {\n",
    "        \"name\": \"Marta\",\n",
    "        \"age\": 30,\n",
    "        \"n_kids\": 3,\n",
    "        \"city\": \"Zaragoza\"\n",
    "    },\n",
    "    {\n",
    "        \"name\": \"Carlos\",\n",
    "        \"age\": 45,\n",
    "        \"n_kids\": 0,\n",
    "        \"city\": \"Granada\"\n",
    "    }\n",
    "]"
   ]
  },
  {
   "cell_type": "markdown",
   "metadata": {},
   "source": [
    "1. **Contar Personas**: \n",
    "   Escribe un programa que cuente cuántas personas hay en la lista `people`. Imprime el total."
   ]
  },
  {
   "cell_type": "markdown",
   "metadata": {},
   "source": [
    "##### tu pseudocodigo aquí"
   ]
  },
  {
   "cell_type": "code",
   "execution_count": null,
   "metadata": {},
   "outputs": [],
   "source": [
    "# tu codigo aquí"
   ]
  },
  {
   "cell_type": "markdown",
   "metadata": {},
   "source": [
    "2. **Contar Personas con Hijos**: \n",
    "   Crea un programa que cuente cuántas personas tienen al menos un hijo. Imprime el número de estas personas."
   ]
  },
  {
   "cell_type": "markdown",
   "metadata": {},
   "source": [
    "##### tu pseudocodigo aquí"
   ]
  },
  {
   "cell_type": "code",
   "execution_count": null,
   "metadata": {},
   "outputs": [],
   "source": [
    "# tu codigo aquí"
   ]
  },
  {
   "cell_type": "markdown",
   "metadata": {},
   "source": [
    "3. **Contar Hijos Totales**: \n",
    "   Escribe un programa que calcule cuántos hijos hay en total entre todas las personas de la lista. Imprime el total."
   ]
  },
  {
   "cell_type": "markdown",
   "metadata": {},
   "source": [
    "##### tu pseudocodigo aquí"
   ]
  },
  {
   "cell_type": "code",
   "execution_count": null,
   "metadata": {},
   "outputs": [],
   "source": [
    "# tu codigo aquí"
   ]
  },
  {
   "cell_type": "markdown",
   "metadata": {},
   "source": [
    "4. **Promedio de Edad**: \n",
    "   Calcula y muestra la edad promedio de las personas en la lista."
   ]
  },
  {
   "cell_type": "markdown",
   "metadata": {},
   "source": [
    "##### tu pseudocodigo aquí"
   ]
  },
  {
   "cell_type": "code",
   "execution_count": null,
   "metadata": {},
   "outputs": [],
   "source": [
    "# tu codigo aquí"
   ]
  },
  {
   "cell_type": "markdown",
   "metadata": {},
   "source": [
    "5. **Lista de Personas que Terminan en 'a'**: \n",
    "   Genera una lista con los nombres de las personas cuyo nombre termina en \"a\". Imprime esta lista."
   ]
  },
  {
   "cell_type": "markdown",
   "metadata": {},
   "source": [
    "##### tu pseudocodigo aquí"
   ]
  },
  {
   "cell_type": "code",
   "execution_count": null,
   "metadata": {},
   "outputs": [],
   "source": [
    "# tu codigo aquí"
   ]
  },
  {
   "cell_type": "markdown",
   "metadata": {},
   "source": [
    "6. **Actualizar Información por Año**: \n",
    "   En un año, las personas cuyos nombres terminan en \"a\" tendrán un niño extra. Crea una nueva lista de diccionarios con la información actualizada de las personas (edad incrementada en 1 y `n_kids` aumentado en 1 para las que terminan en \"a\"). Imprime esta nueva lista."
   ]
  },
  {
   "cell_type": "markdown",
   "metadata": {},
   "source": [
    "##### tu pseudocodigo aquí"
   ]
  },
  {
   "cell_type": "code",
   "execution_count": null,
   "metadata": {},
   "outputs": [],
   "source": [
    "# tu codigo aquí"
   ]
  }
 ],
 "metadata": {
  "kernelspec": {
   "display_name": "Python 3 (ipykernel)",
   "language": "python",
   "name": "python3"
  },
  "language_info": {
   "codemirror_mode": {
    "name": "ipython",
    "version": 3
   },
   "file_extension": ".py",
   "mimetype": "text/x-python",
   "name": "python",
   "nbconvert_exporter": "python",
   "pygments_lexer": "ipython3",
   "version": "3.12.3"
  },
  "toc": {
   "base_numbering": 1,
   "nav_menu": {},
   "number_sections": false,
   "sideBar": true,
   "skip_h1_title": false,
   "title_cell": "Table of Contents",
   "title_sidebar": "Contents",
   "toc_cell": false,
   "toc_position": {},
   "toc_section_display": true,
   "toc_window_display": true
  },
  "varInspector": {
   "cols": {
    "lenName": 16,
    "lenType": 16,
    "lenVar": 40
   },
   "kernels_config": {
    "python": {
     "delete_cmd_postfix": "",
     "delete_cmd_prefix": "del ",
     "library": "var_list.py",
     "varRefreshCmd": "print(var_dic_list())"
    },
    "r": {
     "delete_cmd_postfix": ") ",
     "delete_cmd_prefix": "rm(",
     "library": "var_list.r",
     "varRefreshCmd": "cat(var_dic_list()) "
    }
   },
   "types_to_exclude": [
    "module",
    "function",
    "builtin_function_or_method",
    "instance",
    "_Feature"
   ],
   "window_display": false
  },
  "vscode": {
   "interpreter": {
    "hash": "aee8b7b246df8f9039afb4144a1f6fd8d2ca17a180786b69acc140d282b71a49"
   }
  }
 },
 "nbformat": 4,
 "nbformat_minor": 4
}
